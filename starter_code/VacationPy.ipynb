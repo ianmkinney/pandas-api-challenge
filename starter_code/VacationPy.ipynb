{
 "cells": [
  {
   "cell_type": "markdown",
   "metadata": {},
   "source": [
    "# VacationPy\n",
    "----\n",
    "\n",
    "#### Note\n",
    "* Keep an eye on your API usage. Use https://developers.google.com/maps/reporting/gmp-reporting as reference for how to monitor your usage and billing.\n",
    "\n",
    "* Instructions have been included for each segment. You do not have to follow them exactly, but they are included to help you think through the steps.\n"
   ]
  },
  {
   "source": [
    "# Dependencies and Setup\n",
    "import matplotlib.pyplot as plt\n",
    "import pandas as pd\n",
    "import numpy as np\n",
    "import requests\n",
    "import gmaps\n",
    "import os\n",
    "import json\n",
    "\n",
    "# Import API key\n",
    "from api_keys import g_key"
   ],
   "cell_type": "code",
   "metadata": {},
   "execution_count": 3,
   "outputs": []
  },
  {
   "cell_type": "markdown",
   "metadata": {},
   "source": [
    "### Store Part I results into DataFrame\n",
    "* Load the csv exported in Part I to a DataFrame"
   ]
  },
  {
   "cell_type": "code",
   "execution_count": 4,
   "metadata": {},
   "outputs": [
    {
     "output_type": "execute_result",
     "data": {
      "text/plain": [
       "              City Country        Date  Latitude  Longitude  Max Temperature  \\\n",
       "0            Bluff      NZ  1612840515  -46.6000   168.3333            54.52   \n",
       "1  Yangi Marg`ilon      UZ  1612840369   40.4272    71.7189            44.60   \n",
       "2           Atuona      PF  1612840515   -9.8000  -139.0333            79.56   \n",
       "3           Hobart      AU  1612840229  -42.8794   147.3294            62.01   \n",
       "4          Mataura      NZ  1612840315  -46.1927   168.8643            53.78   \n",
       "\n",
       "   Humidity  Cloudiness  Wind Speed  \n",
       "0        90         100       12.68  \n",
       "1        87          75        4.61  \n",
       "2        78          99       18.81  \n",
       "3        58          75        8.05  \n",
       "4        96         100        4.36  "
      ],
      "text/html": "<div>\n<style scoped>\n    .dataframe tbody tr th:only-of-type {\n        vertical-align: middle;\n    }\n\n    .dataframe tbody tr th {\n        vertical-align: top;\n    }\n\n    .dataframe thead th {\n        text-align: right;\n    }\n</style>\n<table border=\"1\" class=\"dataframe\">\n  <thead>\n    <tr style=\"text-align: right;\">\n      <th></th>\n      <th>City</th>\n      <th>Country</th>\n      <th>Date</th>\n      <th>Latitude</th>\n      <th>Longitude</th>\n      <th>Max Temperature</th>\n      <th>Humidity</th>\n      <th>Cloudiness</th>\n      <th>Wind Speed</th>\n    </tr>\n  </thead>\n  <tbody>\n    <tr>\n      <th>0</th>\n      <td>Bluff</td>\n      <td>NZ</td>\n      <td>1612840515</td>\n      <td>-46.6000</td>\n      <td>168.3333</td>\n      <td>54.52</td>\n      <td>90</td>\n      <td>100</td>\n      <td>12.68</td>\n    </tr>\n    <tr>\n      <th>1</th>\n      <td>Yangi Marg`ilon</td>\n      <td>UZ</td>\n      <td>1612840369</td>\n      <td>40.4272</td>\n      <td>71.7189</td>\n      <td>44.60</td>\n      <td>87</td>\n      <td>75</td>\n      <td>4.61</td>\n    </tr>\n    <tr>\n      <th>2</th>\n      <td>Atuona</td>\n      <td>PF</td>\n      <td>1612840515</td>\n      <td>-9.8000</td>\n      <td>-139.0333</td>\n      <td>79.56</td>\n      <td>78</td>\n      <td>99</td>\n      <td>18.81</td>\n    </tr>\n    <tr>\n      <th>3</th>\n      <td>Hobart</td>\n      <td>AU</td>\n      <td>1612840229</td>\n      <td>-42.8794</td>\n      <td>147.3294</td>\n      <td>62.01</td>\n      <td>58</td>\n      <td>75</td>\n      <td>8.05</td>\n    </tr>\n    <tr>\n      <th>4</th>\n      <td>Mataura</td>\n      <td>NZ</td>\n      <td>1612840315</td>\n      <td>-46.1927</td>\n      <td>168.8643</td>\n      <td>53.78</td>\n      <td>96</td>\n      <td>100</td>\n      <td>4.36</td>\n    </tr>\n  </tbody>\n</table>\n</div>"
     },
     "metadata": {},
     "execution_count": 4
    }
   ],
   "source": [
    "data_file = \"../output_data/output.csv\" \n",
    "\n",
    "weather_data = pd.read_csv(data_file)\n",
    "weather_data.drop(columns=[\"Unnamed: 0\"], inplace=True)\n",
    "weather_data.head()"
   ]
  },
  {
   "cell_type": "markdown",
   "metadata": {},
   "source": [
    "### Humidity Heatmap\n",
    "* Configure gmaps.\n",
    "* Use the Lat and Lng as locations and Humidity as the weight.\n",
    "* Add Heatmap layer to map."
   ]
  },
  {
   "cell_type": "code",
   "execution_count": 5,
   "metadata": {},
   "outputs": [],
   "source": [
    "gmaps.configure(api_key=g_key)"
   ]
  },
  {
   "cell_type": "code",
   "execution_count": 6,
   "metadata": {},
   "outputs": [
    {
     "output_type": "display_data",
     "data": {
      "text/plain": "Figure(layout=FigureLayout(height='420px'))",
      "application/vnd.jupyter.widget-view+json": {
       "version_major": 2,
       "version_minor": 0,
       "model_id": "4da93d1cd0214785a5f8a0b4d7026fd0"
      }
     },
     "metadata": {}
    }
   ],
   "source": [
    "locations = weather_data[[\"Latitude\", \"Longitude\"]]\n",
    "\n",
    "humidity  = weather_data[\"Humidity\"].astype(float)\n",
    "\n",
    "fig = gmaps.figure()\n",
    "\n",
    "heatmap_layer = gmaps.heatmap_layer(locations, weights=humidity, dissipating=False, point_radius=5)\n",
    "\n",
    "fig.add_layer(heatmap_layer)\n",
    "fig"
   ]
  },
  {
   "cell_type": "markdown",
   "metadata": {},
   "source": [
    "### Create new DataFrame fitting weather criteria\n",
    "* Narrow down the cities to fit weather conditions.\n",
    "* Drop any rows will null values."
   ]
  },
  {
   "cell_type": "code",
   "execution_count": 7,
   "metadata": {},
   "outputs": [
    {
     "output_type": "execute_result",
     "data": {
      "text/plain": [
       "              City Country        Date  Latitude  Longitude  Max Temperature  \\\n",
       "2           Atuona      PF  1612840515   -9.8000  -139.0333            79.56   \n",
       "11       Bafoulabé      ML  1612840516   13.8065   -10.8321            72.39   \n",
       "12  Saint-Philippe      RE  1612840516  -21.3585    55.7679            77.00   \n",
       "17      Butaritari      KI  1612840292    3.0707   172.7902            82.06   \n",
       "18      Vila Velha      BR  1612840315  -20.3297   -40.2925            77.00   \n",
       "\n",
       "    Humidity  Cloudiness  Wind Speed  \n",
       "2         78          99       18.81  \n",
       "11        20           5        5.08  \n",
       "12        50           0        8.05  \n",
       "17        82          60       21.09  \n",
       "18        94          90        3.44  "
      ],
      "text/html": "<div>\n<style scoped>\n    .dataframe tbody tr th:only-of-type {\n        vertical-align: middle;\n    }\n\n    .dataframe tbody tr th {\n        vertical-align: top;\n    }\n\n    .dataframe thead th {\n        text-align: right;\n    }\n</style>\n<table border=\"1\" class=\"dataframe\">\n  <thead>\n    <tr style=\"text-align: right;\">\n      <th></th>\n      <th>City</th>\n      <th>Country</th>\n      <th>Date</th>\n      <th>Latitude</th>\n      <th>Longitude</th>\n      <th>Max Temperature</th>\n      <th>Humidity</th>\n      <th>Cloudiness</th>\n      <th>Wind Speed</th>\n    </tr>\n  </thead>\n  <tbody>\n    <tr>\n      <th>2</th>\n      <td>Atuona</td>\n      <td>PF</td>\n      <td>1612840515</td>\n      <td>-9.8000</td>\n      <td>-139.0333</td>\n      <td>79.56</td>\n      <td>78</td>\n      <td>99</td>\n      <td>18.81</td>\n    </tr>\n    <tr>\n      <th>11</th>\n      <td>Bafoulabé</td>\n      <td>ML</td>\n      <td>1612840516</td>\n      <td>13.8065</td>\n      <td>-10.8321</td>\n      <td>72.39</td>\n      <td>20</td>\n      <td>5</td>\n      <td>5.08</td>\n    </tr>\n    <tr>\n      <th>12</th>\n      <td>Saint-Philippe</td>\n      <td>RE</td>\n      <td>1612840516</td>\n      <td>-21.3585</td>\n      <td>55.7679</td>\n      <td>77.00</td>\n      <td>50</td>\n      <td>0</td>\n      <td>8.05</td>\n    </tr>\n    <tr>\n      <th>17</th>\n      <td>Butaritari</td>\n      <td>KI</td>\n      <td>1612840292</td>\n      <td>3.0707</td>\n      <td>172.7902</td>\n      <td>82.06</td>\n      <td>82</td>\n      <td>60</td>\n      <td>21.09</td>\n    </tr>\n    <tr>\n      <th>18</th>\n      <td>Vila Velha</td>\n      <td>BR</td>\n      <td>1612840315</td>\n      <td>-20.3297</td>\n      <td>-40.2925</td>\n      <td>77.00</td>\n      <td>94</td>\n      <td>90</td>\n      <td>3.44</td>\n    </tr>\n  </tbody>\n</table>\n</div>"
     },
     "metadata": {},
     "execution_count": 7
    }
   ],
   "source": [
    "# Ideal Vacation Spot: \n",
    "vacation_spots = weather_data.loc[weather_data['Max Temperature'] < 85]\n",
    "vacation_spots = vacation_spots[vacation_spots['Max Temperature'] > 70]\n",
    "vacation_spots.head()"
   ]
  },
  {
   "cell_type": "markdown",
   "metadata": {},
   "source": [
    "### Hotel Map\n",
    "* Store into variable named `hotel_df`.\n",
    "* Add a \"Hotel Name\" column to the DataFrame.\n",
    "* Set parameters to search for hotels with 5000 meters.\n",
    "* Hit the Google Places API for each city's coordinates.\n",
    "* Store the first Hotel result into the DataFrame.\n",
    "* Plot markers on top of the heatmap."
   ]
  },
  {
   "cell_type": "code",
   "execution_count": 8,
   "metadata": {},
   "outputs": [],
   "source": [
    "def call_places(latitude, longitude, radius, searchType, keyword, key):\n",
    "    call_string = f\"https://maps.googleapis.com/maps/api/place/nearbysearch/json?location={latitude},{longitude}&radius={radius}&type={searchType}&keyword={keyword}&key={key}\"\n",
    "    return call_string"
   ]
  },
  {
   "cell_type": "code",
   "execution_count": 9,
   "metadata": {},
   "outputs": [
    {
     "output_type": "execute_result",
     "data": {
      "text/plain": [
       "     index             City Country      Lat       Lng Hotel Name\n",
       "0        2           Atuona      PF  -9.8000 -139.0333           \n",
       "1       11        Bafoulabé      ML  13.8065  -10.8321           \n",
       "2       12   Saint-Philippe      RE -21.3585   55.7679           \n",
       "3       17       Butaritari      KI   3.0707  172.7902           \n",
       "4       18       Vila Velha      BR -20.3297  -40.2925           \n",
       "..     ...              ...     ...      ...       ...        ...\n",
       "166    537    Cockburn Town      TC  21.4612  -71.1419           \n",
       "167    544  Rio Grande City      US  26.3798  -98.8203           \n",
       "168    553        Boyolangu      ID  -8.1181  111.8935           \n",
       "169    557         Matanzas      CU  23.0411  -81.5775           \n",
       "170    564           Pauini      BR  -7.7136  -66.9764           \n",
       "\n",
       "[171 rows x 6 columns]"
      ],
      "text/html": "<div>\n<style scoped>\n    .dataframe tbody tr th:only-of-type {\n        vertical-align: middle;\n    }\n\n    .dataframe tbody tr th {\n        vertical-align: top;\n    }\n\n    .dataframe thead th {\n        text-align: right;\n    }\n</style>\n<table border=\"1\" class=\"dataframe\">\n  <thead>\n    <tr style=\"text-align: right;\">\n      <th></th>\n      <th>index</th>\n      <th>City</th>\n      <th>Country</th>\n      <th>Lat</th>\n      <th>Lng</th>\n      <th>Hotel Name</th>\n    </tr>\n  </thead>\n  <tbody>\n    <tr>\n      <th>0</th>\n      <td>2</td>\n      <td>Atuona</td>\n      <td>PF</td>\n      <td>-9.8000</td>\n      <td>-139.0333</td>\n      <td></td>\n    </tr>\n    <tr>\n      <th>1</th>\n      <td>11</td>\n      <td>Bafoulabé</td>\n      <td>ML</td>\n      <td>13.8065</td>\n      <td>-10.8321</td>\n      <td></td>\n    </tr>\n    <tr>\n      <th>2</th>\n      <td>12</td>\n      <td>Saint-Philippe</td>\n      <td>RE</td>\n      <td>-21.3585</td>\n      <td>55.7679</td>\n      <td></td>\n    </tr>\n    <tr>\n      <th>3</th>\n      <td>17</td>\n      <td>Butaritari</td>\n      <td>KI</td>\n      <td>3.0707</td>\n      <td>172.7902</td>\n      <td></td>\n    </tr>\n    <tr>\n      <th>4</th>\n      <td>18</td>\n      <td>Vila Velha</td>\n      <td>BR</td>\n      <td>-20.3297</td>\n      <td>-40.2925</td>\n      <td></td>\n    </tr>\n    <tr>\n      <th>...</th>\n      <td>...</td>\n      <td>...</td>\n      <td>...</td>\n      <td>...</td>\n      <td>...</td>\n      <td>...</td>\n    </tr>\n    <tr>\n      <th>166</th>\n      <td>537</td>\n      <td>Cockburn Town</td>\n      <td>TC</td>\n      <td>21.4612</td>\n      <td>-71.1419</td>\n      <td></td>\n    </tr>\n    <tr>\n      <th>167</th>\n      <td>544</td>\n      <td>Rio Grande City</td>\n      <td>US</td>\n      <td>26.3798</td>\n      <td>-98.8203</td>\n      <td></td>\n    </tr>\n    <tr>\n      <th>168</th>\n      <td>553</td>\n      <td>Boyolangu</td>\n      <td>ID</td>\n      <td>-8.1181</td>\n      <td>111.8935</td>\n      <td></td>\n    </tr>\n    <tr>\n      <th>169</th>\n      <td>557</td>\n      <td>Matanzas</td>\n      <td>CU</td>\n      <td>23.0411</td>\n      <td>-81.5775</td>\n      <td></td>\n    </tr>\n    <tr>\n      <th>170</th>\n      <td>564</td>\n      <td>Pauini</td>\n      <td>BR</td>\n      <td>-7.7136</td>\n      <td>-66.9764</td>\n      <td></td>\n    </tr>\n  </tbody>\n</table>\n<p>171 rows × 6 columns</p>\n</div>"
     },
     "metadata": {},
     "execution_count": 9
    }
   ],
   "source": [
    "hotel_df = pd.DataFrame(vacation_spots, columns=[\"City\", \"Country\", \"Latitude\", \"Longitude\"])\n",
    "hotel_df[\"Hotel Name\"] = \"\"\n",
    "hotel_df.columns = ['City', 'Country', 'Lat', 'Lng', 'Hotel Name']\n",
    "hotel_df.reset_index(inplace=True)\n",
    "hotel_df"
   ]
  },
  {
   "cell_type": "code",
   "execution_count": 10,
   "metadata": {},
   "outputs": [
    {
     "output_type": "execute_result",
     "data": {
      "text/plain": [
       "['No Hotel',\n",
       " 'No Hotel',\n",
       " 'No Hotel',\n",
       " 'No Hotel',\n",
       " 'No Hotel',\n",
       " 'No Hotel',\n",
       " 'No Hotel',\n",
       " 'No Hotel',\n",
       " 'No Hotel',\n",
       " 'No Hotel',\n",
       " 'No Hotel',\n",
       " 'No Hotel',\n",
       " 'No Hotel',\n",
       " 'No Hotel',\n",
       " 'No Hotel',\n",
       " 'No Hotel',\n",
       " 'No Hotel',\n",
       " 'No Hotel',\n",
       " 'No Hotel',\n",
       " 'No Hotel',\n",
       " 'No Hotel',\n",
       " 'No Hotel',\n",
       " 'No Hotel',\n",
       " 'No Hotel',\n",
       " 'No Hotel',\n",
       " 'No Hotel',\n",
       " 'No Hotel',\n",
       " 'No Hotel',\n",
       " 'No Hotel',\n",
       " 'No Hotel',\n",
       " 'No Hotel',\n",
       " 'No Hotel',\n",
       " 'No Hotel',\n",
       " 'No Hotel',\n",
       " 'No Hotel',\n",
       " 'No Hotel',\n",
       " 'No Hotel',\n",
       " 'No Hotel',\n",
       " 'No Hotel',\n",
       " 'No Hotel',\n",
       " 'No Hotel',\n",
       " 'No Hotel',\n",
       " 'No Hotel',\n",
       " 'No Hotel',\n",
       " 'No Hotel',\n",
       " 'No Hotel',\n",
       " 'No Hotel',\n",
       " 'No Hotel',\n",
       " 'No Hotel',\n",
       " 'No Hotel',\n",
       " 'No Hotel',\n",
       " 'No Hotel',\n",
       " 'No Hotel',\n",
       " 'No Hotel',\n",
       " 'No Hotel',\n",
       " 'No Hotel',\n",
       " 'No Hotel',\n",
       " 'No Hotel',\n",
       " 'No Hotel',\n",
       " 'No Hotel',\n",
       " 'No Hotel',\n",
       " 'No Hotel',\n",
       " 'No Hotel',\n",
       " 'No Hotel',\n",
       " 'No Hotel',\n",
       " 'No Hotel',\n",
       " 'No Hotel',\n",
       " 'No Hotel',\n",
       " 'No Hotel',\n",
       " 'No Hotel',\n",
       " 'No Hotel',\n",
       " 'No Hotel',\n",
       " 'No Hotel',\n",
       " 'No Hotel',\n",
       " 'No Hotel',\n",
       " 'No Hotel',\n",
       " 'No Hotel',\n",
       " 'No Hotel',\n",
       " 'No Hotel',\n",
       " 'No Hotel',\n",
       " 'No Hotel',\n",
       " 'No Hotel',\n",
       " 'No Hotel',\n",
       " 'No Hotel',\n",
       " 'No Hotel',\n",
       " 'No Hotel',\n",
       " 'No Hotel',\n",
       " 'No Hotel',\n",
       " 'No Hotel',\n",
       " 'No Hotel',\n",
       " 'No Hotel',\n",
       " 'No Hotel',\n",
       " 'No Hotel',\n",
       " 'No Hotel',\n",
       " 'No Hotel',\n",
       " 'No Hotel',\n",
       " 'No Hotel',\n",
       " 'No Hotel',\n",
       " 'No Hotel',\n",
       " 'No Hotel',\n",
       " 'No Hotel',\n",
       " 'No Hotel',\n",
       " 'No Hotel',\n",
       " 'No Hotel',\n",
       " 'No Hotel',\n",
       " 'No Hotel',\n",
       " 'No Hotel',\n",
       " 'No Hotel',\n",
       " 'No Hotel',\n",
       " 'No Hotel',\n",
       " 'No Hotel',\n",
       " 'No Hotel',\n",
       " 'No Hotel',\n",
       " 'No Hotel',\n",
       " 'No Hotel',\n",
       " 'No Hotel',\n",
       " 'No Hotel',\n",
       " 'No Hotel',\n",
       " 'No Hotel',\n",
       " 'No Hotel',\n",
       " 'No Hotel',\n",
       " 'No Hotel',\n",
       " 'No Hotel',\n",
       " 'No Hotel',\n",
       " 'No Hotel',\n",
       " 'No Hotel',\n",
       " 'No Hotel',\n",
       " 'No Hotel',\n",
       " 'No Hotel',\n",
       " 'No Hotel',\n",
       " 'No Hotel',\n",
       " 'No Hotel',\n",
       " 'No Hotel',\n",
       " 'No Hotel',\n",
       " 'No Hotel',\n",
       " 'No Hotel',\n",
       " 'No Hotel',\n",
       " 'No Hotel',\n",
       " 'No Hotel',\n",
       " 'No Hotel',\n",
       " 'No Hotel',\n",
       " 'No Hotel',\n",
       " 'No Hotel',\n",
       " 'No Hotel',\n",
       " 'No Hotel',\n",
       " 'No Hotel',\n",
       " 'No Hotel',\n",
       " 'No Hotel',\n",
       " 'No Hotel',\n",
       " 'No Hotel',\n",
       " 'No Hotel',\n",
       " 'No Hotel',\n",
       " 'No Hotel',\n",
       " 'No Hotel',\n",
       " 'No Hotel',\n",
       " 'No Hotel',\n",
       " 'No Hotel',\n",
       " 'No Hotel',\n",
       " 'No Hotel',\n",
       " 'No Hotel',\n",
       " 'No Hotel',\n",
       " 'No Hotel',\n",
       " 'No Hotel',\n",
       " 'No Hotel',\n",
       " 'No Hotel',\n",
       " 'No Hotel',\n",
       " 'No Hotel',\n",
       " 'No Hotel',\n",
       " 'No Hotel',\n",
       " 'No Hotel',\n",
       " 'No Hotel']"
      ]
     },
     "metadata": {},
     "execution_count": 10
    }
   ],
   "source": [
    "hotel_name = []\n",
    "for index, row in hotel_df.iterrows():\n",
    "    # get lat, lng from df\n",
    "    lat = row[\"Lat\"]\n",
    "    lng = row[\"Lng\"]\n",
    "    url = call_places(lat,lng,5000,'hotel','hotel',g_key)\n",
    "    # make request and print url\n",
    "    name_address = requests.get(url)\n",
    "    # convert to json\n",
    "    name_address = name_address.json()\n",
    "    try:\n",
    "\n",
    "        hotel_name.append(name_address['results'][0]['name'])\n",
    "    except:\n",
    "        hotel_name.append('No Hotel')\n",
    "hotel_name"
   ]
  },
  {
   "cell_type": "code",
   "execution_count": 11,
   "metadata": {},
   "outputs": [],
   "source": [
    "hotel_df['Hotel Name']= hotel_name\n",
    "hotel_df = hotel_df.dropna()\n",
    "hotel_df.to_csv('../output_data/hotel_export.csv')"
   ]
  },
  {
   "cell_type": "code",
   "execution_count": 12,
   "metadata": {},
   "outputs": [],
   "source": [
    "# NOTE: Do not change any of the code in this cell\n",
    "\n",
    "# Using the template add the hotel marks to the heatmap\n",
    "info_box_template = \"\"\"\n",
    "<dl>\n",
    "<dt>Name</dt><dd>{Hotel Name}</dd>\n",
    "<dt>City</dt><dd>{City}</dd>\n",
    "<dt>Country</dt><dd>{Country}</dd>\n",
    "</dl>\n",
    "\"\"\"\n",
    "# Store the DataFrame Row\n",
    "# NOTE: be sure to update with your DataFrame name\n",
    "hotel_info = [info_box_template.format(**row) for index, row in hotel_df.iterrows()]\n",
    "locations = hotel_df[[\"Lat\", \"Lng\"]]"
   ]
  },
  {
   "cell_type": "code",
   "execution_count": 13,
   "metadata": {},
   "outputs": [
    {
     "output_type": "display_data",
     "data": {
      "text/plain": "Figure(layout=FigureLayout(height='420px'))",
      "application/vnd.jupyter.widget-view+json": {
       "version_major": 2,
       "version_minor": 0,
       "model_id": "4da93d1cd0214785a5f8a0b4d7026fd0"
      }
     },
     "metadata": {}
    }
   ],
   "source": [
    "# Add marker layer ontop of heat map\n",
    "markers = gmaps.marker_layer(locations, info_box_content=hotel_info)\n",
    "fig.add_layer(markers)\n",
    "\n",
    "\n",
    "# Display figure\n",
    "fig"
   ]
  },
  {
   "cell_type": "code",
   "execution_count": null,
   "metadata": {},
   "outputs": [],
   "source": []
  },
  {
   "cell_type": "code",
   "execution_count": null,
   "metadata": {},
   "outputs": [],
   "source": []
  },
  {
   "cell_type": "code",
   "execution_count": null,
   "metadata": {},
   "outputs": [],
   "source": []
  }
 ],
 "metadata": {
  "kernelspec": {
   "name": "python3",
   "display_name": "Python 3.8.5 64-bit ('gt-data': conda)",
   "metadata": {
    "interpreter": {
     "hash": "954adf0ca424c8ffefc187cbe9b4b9b75550f54f0f6fe8036a6c4cefac05d1fa"
    }
   }
  },
  "language_info": {
   "codemirror_mode": {
    "name": "ipython",
    "version": 3
   },
   "file_extension": ".py",
   "mimetype": "text/x-python",
   "name": "python",
   "nbconvert_exporter": "python",
   "pygments_lexer": "ipython3",
   "version": "3.8.5-final"
  },
  "latex_envs": {
   "LaTeX_envs_menu_present": true,
   "autoclose": false,
   "autocomplete": true,
   "bibliofile": "biblio.bib",
   "cite_by": "apalike",
   "current_citInitial": 1,
   "eqLabelWithNumbers": true,
   "eqNumInitial": 1,
   "hotkeys": {
    "equation": "Ctrl-E",
    "itemize": "Ctrl-I"
   },
   "labels_anchors": false,
   "latex_user_defs": false,
   "report_style_numbering": false,
   "user_envs_cfg": false
  }
 },
 "nbformat": 4,
 "nbformat_minor": 4
}